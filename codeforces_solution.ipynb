{
 "cells": [
  {
   "cell_type": "markdown",
   "metadata": {},
   "source": [
    "# Problem A"
   ]
  },
  {
   "cell_type": "code",
   "execution_count": null,
   "metadata": {},
   "outputs": [],
   "source": [
    "print(\"Hello, World!\")"
   ]
  },
  {
   "cell_type": "markdown",
   "metadata": {},
   "source": [
    "# Problem B"
   ]
  },
  {
   "cell_type": "code",
   "execution_count": null,
   "metadata": {},
   "outputs": [],
   "source": [
    "n = int(input())\n",
    "\n",
    "if -1000 <= n <= 1000:\n",
    "    result = n + 1\n",
    "    print(result)"
   ]
  },
  {
   "cell_type": "markdown",
   "metadata": {},
   "source": [
    "# Problem C"
   ]
  },
  {
   "cell_type": "code",
   "execution_count": null,
   "metadata": {},
   "outputs": [],
   "source": [
    "side_a = int(input())\n",
    "side_b = int(input())\n",
    "side_c = int(input())\n",
    "\n",
    "perimeter = side_a + side_b + side_c\n",
    "\n",
    "print(perimeter)"
   ]
  },
  {
   "cell_type": "markdown",
   "metadata": {},
   "source": [
    "# Problem D"
   ]
  },
  {
   "cell_type": "code",
   "execution_count": null,
   "metadata": {},
   "outputs": [],
   "source": [
    "side_a = int(input())\n",
    "side_b = int(input())\n",
    "\n",
    "area = side_a * side_b\n",
    "\n",
    "print(area)"
   ]
  },
  {
   "cell_type": "markdown",
   "metadata": {},
   "source": [
    "# Poblem E"
   ]
  },
  {
   "cell_type": "code",
   "execution_count": null,
   "metadata": {},
   "outputs": [],
   "source": [
    "num_apple = int(input())\n",
    "num_student = int(input())\n",
    "\n",
    "apple_per_student = num_apple // num_student\n",
    "\n",
    "print(apple_per_student)"
   ]
  },
  {
   "cell_type": "markdown",
   "metadata": {},
   "source": [
    "# Problem F"
   ]
  },
  {
   "cell_type": "code",
   "execution_count": null,
   "metadata": {},
   "outputs": [],
   "source": [
    "num_apple = int(input())\n",
    "num_student = int(input())\n",
    "\n",
    "apple_remain = num_apple % num_student\n",
    "\n",
    "print(apple_remain)"
   ]
  },
  {
   "cell_type": "markdown",
   "metadata": {},
   "source": [
    "# Problem G"
   ]
  },
  {
   "cell_type": "code",
   "execution_count": 8,
   "metadata": {},
   "outputs": [
    {
     "name": "stdout",
     "output_type": "stream",
     "text": [
      "1\n"
     ]
    }
   ],
   "source": [
    "price = int(input())\n",
    "\n",
    "discount = price % 10\n",
    "\n",
    "print(discount)"
   ]
  },
  {
   "cell_type": "markdown",
   "metadata": {},
   "source": [
    "# Problem H"
   ]
  },
  {
   "cell_type": "code",
   "execution_count": null,
   "metadata": {},
   "outputs": [],
   "source": [
    "num_room = int(input())\n",
    "\n",
    "floor = num_room // 10\n",
    "\n",
    "print(floor)"
   ]
  },
  {
   "cell_type": "markdown",
   "metadata": {},
   "source": [
    "# Problem I"
   ]
  },
  {
   "cell_type": "code",
   "execution_count": null,
   "metadata": {},
   "outputs": [],
   "source": [
    "initial_flower = int(input())\n",
    "day_visit_again = int(input())\n",
    "\n",
    "final_flower = initial_flower * (3 ** day_visit_again)\n",
    "\n",
    "print(final_flower)"
   ]
  },
  {
   "cell_type": "markdown",
   "metadata": {},
   "source": [
    "# Problem J"
   ]
  },
  {
   "cell_type": "code",
   "execution_count": null,
   "metadata": {},
   "outputs": [],
   "source": [
    "inp_min = int(input())\n",
    "\n",
    "clock_hour = inp_min // 60\n",
    "clock_min = inp_min % 60\n",
    "\n",
    "print(clock_hour)\n",
    "print(clock_min)"
   ]
  },
  {
   "cell_type": "markdown",
   "metadata": {},
   "source": [
    "# Problem K"
   ]
  },
  {
   "cell_type": "code",
   "execution_count": 1,
   "metadata": {},
   "outputs": [
    {
     "name": "stdout",
     "output_type": "stream",
     "text": [
      "NORMAL CLASSES\n"
     ]
    }
   ],
   "source": [
    "temp = int(input())\n",
    "\n",
    "cancel_sch = \"CANCEL SCHOOL\"\n",
    "cancle_2 = \"CANCEL TWO CLASSES\"\n",
    "normal = \"NORMAL CLASSES\"\n",
    "\n",
    "if temp > 35:\n",
    "    print(cancel_sch)\n",
    "elif temp > 30:\n",
    "    print(cancle_2)\n",
    "else:\n",
    "    print(normal)\n",
    "\n"
   ]
  },
  {
   "cell_type": "markdown",
   "metadata": {},
   "source": [
    "# Problem L"
   ]
  },
  {
   "cell_type": "code",
   "execution_count": 6,
   "metadata": {},
   "outputs": [
    {
     "name": "stdout",
     "output_type": "stream",
     "text": [
      "30\n"
     ]
    }
   ],
   "source": [
    "gold_a = int(input())\n",
    "gold_b = int(input())\n",
    "gold_c = int(input())\n",
    "\n",
    "sum_gold = (gold_a + gold_b + gold_c) - min(gold_a, gold_b, gold_c)\n",
    "\n",
    "print(sum_gold)"
   ]
  },
  {
   "cell_type": "markdown",
   "metadata": {},
   "source": [
    "# Problem M"
   ]
  },
  {
   "cell_type": "code",
   "execution_count": null,
   "metadata": {},
   "outputs": [],
   "source": [
    "num = int(input())\n",
    "\n",
    "if num % 7 == 0 and num % 11 != 0:\n",
    "    print(\"YES\")\n",
    "else:\n",
    "    print(\"No\")"
   ]
  },
  {
   "cell_type": "markdown",
   "metadata": {},
   "source": [
    "# Problem N"
   ]
  },
  {
   "cell_type": "code",
   "execution_count": null,
   "metadata": {},
   "outputs": [],
   "source": [
    "hour = int(input())\n",
    "\n",
    "if 5 <= hour <= 9:\n",
    "    print(\"OPEN\")\n",
    "else:\n",
    "    print(\"CLOSED\")"
   ]
  },
  {
   "cell_type": "markdown",
   "metadata": {},
   "source": [
    "# Problem O"
   ]
  },
  {
   "cell_type": "code",
   "execution_count": null,
   "metadata": {},
   "outputs": [],
   "source": [
    "left_sock = int(input())\n",
    "right_sock = int(input())\n",
    "\n",
    "pairs = min(left_sock, right_sock)\n",
    "\n",
    "print(pairs)"
   ]
  },
  {
   "cell_type": "markdown",
   "metadata": {},
   "source": [
    "# Problem P"
   ]
  },
  {
   "cell_type": "code",
   "execution_count": null,
   "metadata": {},
   "outputs": [],
   "source": [
    "score = int(input())\n",
    "\n",
    "if score <= 40:\n",
    "    print(\"Emerging\")\n",
    "elif score <= 80:\n",
    "    print(\"Developing\")\n",
    "else:\n",
    "    print(\"Achieved\")"
   ]
  },
  {
   "cell_type": "markdown",
   "metadata": {},
   "source": [
    "# Problem Q"
   ]
  },
  {
   "cell_type": "code",
   "execution_count": null,
   "metadata": {},
   "outputs": [],
   "source": [
    "apple_cake = int(input())\n",
    "orange_cake = int(input())\n",
    "\n",
    "bag_1 = int(input())\n",
    "bag_2 = int(input())\n",
    "\n",
    "cake_max = max(apple_cake, orange_cake)\n",
    "cake_min = min(apple_cake, orange_cake)\n",
    "\n",
    "max_is_containable = cake_max <= max(bag_1, bag_2)\n",
    "min_is_containable = cake_min <= min(bag_1, bag_2)\n",
    "\n",
    "if max_is_containable and min_is_containable:\n",
    "    print(\"YES\")\n",
    "else:\n",
    "    print(\"NO\") "
   ]
  },
  {
   "cell_type": "markdown",
   "metadata": {},
   "source": [
    "# Problem R"
   ]
  },
  {
   "cell_type": "code",
   "execution_count": 10,
   "metadata": {},
   "outputs": [
    {
     "name": "stdout",
     "output_type": "stream",
     "text": [
      "10\n",
      "9\n",
      "8\n",
      "7\n",
      "6\n",
      "5\n",
      "4\n",
      "3\n",
      "2\n",
      "1\n"
     ]
    }
   ],
   "source": [
    "integer = int(input())\n",
    "\n",
    "for i in range(integer, 0, -1):\n",
    "    print(i)"
   ]
  },
  {
   "cell_type": "markdown",
   "metadata": {},
   "source": [
    "# Problem S"
   ]
  },
  {
   "cell_type": "code",
   "execution_count": null,
   "metadata": {},
   "outputs": [],
   "source": [
    "n = int(input())\n",
    "\n",
    "sum = (n) * (n+1) * (2*n +1) // 6\n",
    "\n",
    "print(sum)"
   ]
  },
  {
   "cell_type": "markdown",
   "metadata": {},
   "source": [
    "# Problem T"
   ]
  },
  {
   "cell_type": "code",
   "execution_count": 12,
   "metadata": {},
   "outputs": [
    {
     "name": "stdout",
     "output_type": "stream",
     "text": [
      "10\n"
     ]
    }
   ],
   "source": [
    "num_of_input = int(input())\n",
    "\n",
    "sum = 0\n",
    "for i in range(num_of_input):\n",
    "    a_is_input = int(input())\n",
    "    sum += a_is_input\n",
    "\n",
    "print(sum)"
   ]
  },
  {
   "cell_type": "markdown",
   "metadata": {},
   "source": [
    "# Problem U"
   ]
  },
  {
   "cell_type": "code",
   "execution_count": 13,
   "metadata": {},
   "outputs": [
    {
     "name": "stdout",
     "output_type": "stream",
     "text": [
      "2\n",
      "4\n"
     ]
    }
   ],
   "source": [
    "start = int(input())\n",
    "stop = int(input())\n",
    "\n",
    "if start % 2 != 0:\n",
    "    start += 1\n",
    "\n",
    "for i in range(start, stop+1, 2):\n",
    "    print(i)"
   ]
  },
  {
   "cell_type": "markdown",
   "metadata": {},
   "source": [
    "# Problem V"
   ]
  },
  {
   "cell_type": "code",
   "execution_count": 15,
   "metadata": {},
   "outputs": [
    {
     "name": "stdout",
     "output_type": "stream",
     "text": [
      "2\n"
     ]
    }
   ],
   "source": [
    "num = int(input())\n",
    "\n",
    "zeros = 0\n",
    "for i in range(num):\n",
    "    ai = int(input())\n",
    "    if ai == 0:\n",
    "        zeros += 1\n",
    "\n",
    "print(zeros)\n"
   ]
  },
  {
   "cell_type": "markdown",
   "metadata": {},
   "source": [
    "# Problem W"
   ]
  },
  {
   "cell_type": "code",
   "execution_count": 17,
   "metadata": {},
   "outputs": [
    {
     "name": "stdout",
     "output_type": "stream",
     "text": [
      "3\n"
     ]
    }
   ],
   "source": [
    "num = int(input())\n",
    "\n",
    "league_of_heroes_incomplete = 0\n",
    "league_of_heroes_complete = num * (num + 1) // 2\n",
    "\n",
    "for i in range(num - 1):\n",
    "    hero = int(input())\n",
    "    league_of_heroes_incomplete += hero\n",
    "\n",
    "missing_hero = league_of_heroes_complete - league_of_heroes_incomplete\n",
    "\n",
    "print(missing_hero)\n",
    "\n"
   ]
  },
  {
   "cell_type": "markdown",
   "metadata": {},
   "source": [
    "# Problem X"
   ]
  },
  {
   "cell_type": "code",
   "execution_count": 1,
   "metadata": {},
   "outputs": [
    {
     "name": "stdout",
     "output_type": "stream",
     "text": [
      "12 3\n"
     ]
    }
   ],
   "source": [
    "num1 = input()\n",
    "num2 = input()\n",
    "\n",
    "ans_wrong = num1 + num2\n",
    "ans_right = int(num1) + int(num2)\n",
    "\n",
    "print(ans_wrong, ans_right)\n",
    "\n"
   ]
  },
  {
   "cell_type": "markdown",
   "metadata": {},
   "source": [
    "# Problem Y"
   ]
  },
  {
   "cell_type": "code",
   "execution_count": null,
   "metadata": {},
   "outputs": [],
   "source": [
    "text = input()\n",
    "index = int(input()) - 1\n",
    "\n",
    "char_i = text[index]\n",
    "\n",
    "print(char_i)"
   ]
  },
  {
   "cell_type": "markdown",
   "metadata": {},
   "source": [
    "# Problem Z"
   ]
  },
  {
   "cell_type": "code",
   "execution_count": 5,
   "metadata": {},
   "outputs": [
    {
     "name": "stdout",
     "output_type": "stream",
     "text": [
      "abcab\n"
     ]
    }
   ],
   "source": [
    "text = input()\n",
    "text_m = input()\n",
    "\n",
    "mid_point = (len(text) // 2)\n",
    "\n",
    "text_f = text[: mid_point]\n",
    "text_l = text[mid_point: ]\n",
    "\n",
    "print(text_f + text_m + text_l)"
   ]
  },
  {
   "cell_type": "markdown",
   "metadata": {},
   "source": [
    "# Problem ZA"
   ]
  },
  {
   "cell_type": "code",
   "execution_count": 7,
   "metadata": {},
   "outputs": [
    {
     "name": "stdout",
     "output_type": "stream",
     "text": [
      "xyzabc\n"
     ]
    }
   ],
   "source": [
    "text = input()\n",
    "\n",
    "mid_point = (len(text) // 2)\n",
    "\n",
    "text_f = text[: mid_point]\n",
    "text_l = text[mid_point: ]\n",
    "\n",
    "print(text_l + text_f)"
   ]
  },
  {
   "cell_type": "markdown",
   "metadata": {},
   "source": [
    "# Problem ZB"
   ]
  },
  {
   "cell_type": "code",
   "execution_count": 10,
   "metadata": {},
   "outputs": [
    {
     "name": "stdout",
     "output_type": "stream",
     "text": [
      "abc\n"
     ]
    }
   ],
   "source": [
    "text = input()\n",
    "\n",
    "mid_point = len(text) // 2\n",
    "\n",
    "text_m = text[mid_point-1: mid_point+2]\n",
    "\n",
    "print(text_m)"
   ]
  },
  {
   "cell_type": "markdown",
   "metadata": {},
   "source": [
    "# Problem ZC"
   ]
  },
  {
   "cell_type": "code",
   "execution_count": null,
   "metadata": {},
   "outputs": [],
   "source": [
    "s1 = input()\n",
    "\n",
    "for i, char in enumerate(s1):\n",
    "    print(char)"
   ]
  },
  {
   "cell_type": "markdown",
   "metadata": {},
   "source": [
    "# Problem ZD"
   ]
  },
  {
   "cell_type": "code",
   "execution_count": null,
   "metadata": {},
   "outputs": [],
   "source": [
    "s1 = input()\n",
    "\n",
    "num_of_f = s1.count(\"f\")\n",
    "\n",
    "print(num_of_f)"
   ]
  },
  {
   "cell_type": "markdown",
   "metadata": {},
   "source": [
    "# Problem ZE"
   ]
  },
  {
   "cell_type": "code",
   "execution_count": 1,
   "metadata": {},
   "outputs": [
    {
     "name": "stdout",
     "output_type": "stream",
     "text": [
      "ALICE\n"
     ]
    }
   ],
   "source": [
    "marks = input()\n",
    "\n",
    "score_alice = marks.count(\"A\")\n",
    "score_bob = marks.count(\"B\")\n",
    "\n",
    "if score_alice > score_bob:\n",
    "    print(\"ALICE\")\n",
    "elif score_alice < score_bob:\n",
    "    print(\"BOB\")\n",
    "else:\n",
    "    print(\"DRAW\")"
   ]
  },
  {
   "cell_type": "markdown",
   "metadata": {},
   "source": [
    "# Problem ZF"
   ]
  },
  {
   "cell_type": "code",
   "execution_count": 4,
   "metadata": {},
   "outputs": [
    {
     "name": "stdout",
     "output_type": "stream",
     "text": [
      "YES\n"
     ]
    }
   ],
   "source": [
    "s1 = input()\n",
    "\n",
    "reverse = \"\"\n",
    "\n",
    "for i in range(len(s1)):\n",
    "    reverse += s1[-i-1]\n",
    "\n",
    "if s1 == reverse:\n",
    "    print(\"YES\")\n",
    "else:\n",
    "    print(\"NO\")"
   ]
  },
  {
   "cell_type": "markdown",
   "metadata": {},
   "source": [
    "# Problem ZG"
   ]
  },
  {
   "cell_type": "code",
   "execution_count": 16,
   "metadata": {},
   "outputs": [
    {
     "name": "stdout",
     "output_type": "stream",
     "text": [
      "h_e_l_l_o\n"
     ]
    }
   ],
   "source": [
    "s1 = input()\n",
    "\n",
    "new_string = \"\"\n",
    "\n",
    "for i,char in enumerate(s1):\n",
    "    if i == 0:\n",
    "        new_string += char\n",
    "        continue\n",
    "    new_string += \"_\" + char\n",
    "\n",
    "print(new_string)"
   ]
  },
  {
   "cell_type": "markdown",
   "metadata": {},
   "source": [
    "# Problem ZH"
   ]
  },
  {
   "cell_type": "code",
   "execution_count": null,
   "metadata": {},
   "outputs": [],
   "source": [
    "element_num = int(input())\n",
    "list_of_elements = list(map(int, input().split()))\n",
    "index_num = int(input())\n",
    "\n",
    "print(list_of_elements[index_num])"
   ]
  },
  {
   "cell_type": "markdown",
   "metadata": {},
   "source": [
    "# Problem ZI"
   ]
  },
  {
   "cell_type": "code",
   "execution_count": 4,
   "metadata": {},
   "outputs": [
    {
     "name": "stdout",
     "output_type": "stream",
     "text": [
      "11 12 13\n"
     ]
    }
   ],
   "source": [
    "element_num = int(input())\n",
    "list_of_elements = list(map(int, input().split()))\n",
    "adder = int(input())\n",
    "\n",
    "for i in range(len(list_of_elements)):\n",
    "    list_of_elements[i] = adder + list_of_elements[i]\n",
    "print(*list_of_elements)"
   ]
  },
  {
   "cell_type": "markdown",
   "metadata": {},
   "source": [
    "# Problem ZJ"
   ]
  },
  {
   "cell_type": "code",
   "execution_count": 7,
   "metadata": {},
   "outputs": [
    {
     "name": "stdout",
     "output_type": "stream",
     "text": [
      "[4, 9, 3, 5]\n"
     ]
    }
   ],
   "source": [
    "element_num = int(input())\n",
    "list_of_elements = list(map(int, input().split()))\n",
    "even_indices_list = list_of_elements[::2]\n",
    "\n",
    "print(*even_indices_list)"
   ]
  },
  {
   "cell_type": "markdown",
   "metadata": {},
   "source": [
    "# Problem ZK"
   ]
  },
  {
   "cell_type": "code",
   "execution_count": null,
   "metadata": {},
   "outputs": [],
   "source": [
    "element_num = int(input())\n",
    "list_of_elements = list(map(int, input().split()))\n",
    "\n",
    "new_list = list()\n",
    "\n",
    "\n",
    "for i in range(len(list_of_elements)):\n",
    "\n",
    "    if list_of_elements[i] % 2 == 0:\n",
    "        new_list.append(list_of_elements[i])\n",
    "\n",
    "\n",
    "print(*new_list)"
   ]
  },
  {
   "cell_type": "markdown",
   "metadata": {},
   "source": [
    "# Problem ZL"
   ]
  },
  {
   "cell_type": "code",
   "execution_count": 20,
   "metadata": {},
   "outputs": [
    {
     "name": "stdout",
     "output_type": "stream",
     "text": [
      "[1, 2, 3, 4, 5]\n",
      "5\n"
     ]
    }
   ],
   "source": [
    "element_num = int(input())\n",
    "list_of_elements = list(map(int, input().split()))\n",
    "list_of_elements.sort()\n",
    "\n",
    "unique_list = [list_of_elements[0]]\n",
    "\n",
    "\n",
    "i = 1\n",
    "for i in range(len(list_of_elements)):\n",
    "    if list_of_elements[i] not in unique_list:\n",
    "        unique_list.append(list_of_elements[i])\n",
    "\n",
    "\n",
    "print(len(unique_list))\n"
   ]
  },
  {
   "cell_type": "code",
   "execution_count": null,
   "metadata": {},
   "outputs": [],
   "source": [
    "element_num = int(input())\n",
    "list_of_elements = list(map(int, input().split()))\n",
    "\n",
    "segment = []\n",
    "is_same_sign = False\n",
    "\n",
    "if len(list_of_elements) == 1:\n",
    "    is_same_sign = False\n",
    "\n",
    "else:\n",
    "    for i in range(len(list_of_elements) - 1) :\n",
    "        segment = list_of_elements[i: i+2]\n",
    "\n",
    "        if segment[0] * segment[1] > 0:\n",
    "            is_same_sign = True\n",
    "            break\n",
    "\n",
    "\n",
    "if is_same_sign:\n",
    "    print(\"YES\")\n",
    "else:\n",
    "    print(\"NO\")\n",
    "\n",
    "\n"
   ]
  }
 ],
 "metadata": {
  "kernelspec": {
   "display_name": "harbour.space_student",
   "language": "python",
   "name": "python3"
  },
  "language_info": {
   "codemirror_mode": {
    "name": "ipython",
    "version": 3
   },
   "file_extension": ".py",
   "mimetype": "text/x-python",
   "name": "python",
   "nbconvert_exporter": "python",
   "pygments_lexer": "ipython3",
   "version": "3.12.4"
  }
 },
 "nbformat": 4,
 "nbformat_minor": 2
}
