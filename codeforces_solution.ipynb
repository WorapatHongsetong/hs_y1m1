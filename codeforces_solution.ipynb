{
 "cells": [
  {
   "cell_type": "markdown",
   "metadata": {},
   "source": [
    "# Problem A"
   ]
  },
  {
   "cell_type": "code",
   "execution_count": null,
   "metadata": {},
   "outputs": [],
   "source": [
    "print(\"Hello, World!\")"
   ]
  },
  {
   "cell_type": "markdown",
   "metadata": {},
   "source": [
    "# Problem B"
   ]
  },
  {
   "cell_type": "code",
   "execution_count": null,
   "metadata": {},
   "outputs": [],
   "source": [
    "n = int(input())\n",
    "\n",
    "if -1000 <= n <= 1000:\n",
    "    result = n + 1\n",
    "    print(result)"
   ]
  },
  {
   "cell_type": "markdown",
   "metadata": {},
   "source": [
    "# Problem C"
   ]
  },
  {
   "cell_type": "code",
   "execution_count": null,
   "metadata": {},
   "outputs": [],
   "source": [
    "side_a = int(input())\n",
    "side_b = int(input())\n",
    "side_c = int(input())\n",
    "\n",
    "perimeter = side_a + side_b + side_c\n",
    "\n",
    "print(perimeter)"
   ]
  },
  {
   "cell_type": "markdown",
   "metadata": {},
   "source": [
    "# Problem D"
   ]
  },
  {
   "cell_type": "code",
   "execution_count": null,
   "metadata": {},
   "outputs": [],
   "source": [
    "side_a = int(input())\n",
    "side_b = int(input())\n",
    "\n",
    "area = side_a * side_b\n",
    "\n",
    "print(area)"
   ]
  },
  {
   "cell_type": "markdown",
   "metadata": {},
   "source": [
    "# Poblem E"
   ]
  },
  {
   "cell_type": "code",
   "execution_count": null,
   "metadata": {},
   "outputs": [],
   "source": [
    "num_apple = int(input())\n",
    "num_student = int(input())\n",
    "\n",
    "apple_per_student = num_apple // num_student\n",
    "\n",
    "print(apple_per_student)"
   ]
  },
  {
   "cell_type": "markdown",
   "metadata": {},
   "source": [
    "# Problem F"
   ]
  },
  {
   "cell_type": "code",
   "execution_count": null,
   "metadata": {},
   "outputs": [],
   "source": [
    "num_apple = int(input())\n",
    "num_student = int(input())\n",
    "\n",
    "apple_remain = num_apple % num_student\n",
    "\n",
    "print(apple_remain)"
   ]
  },
  {
   "cell_type": "markdown",
   "metadata": {},
   "source": [
    "# Problem G"
   ]
  },
  {
   "cell_type": "code",
   "execution_count": 8,
   "metadata": {},
   "outputs": [
    {
     "name": "stdout",
     "output_type": "stream",
     "text": [
      "1\n"
     ]
    }
   ],
   "source": [
    "price = int(input())\n",
    "\n",
    "discount = price % 10\n",
    "\n",
    "print(discount)"
   ]
  },
  {
   "cell_type": "markdown",
   "metadata": {},
   "source": [
    "# Problem H"
   ]
  },
  {
   "cell_type": "code",
   "execution_count": null,
   "metadata": {},
   "outputs": [],
   "source": [
    "num_room = int(input())\n",
    "\n",
    "floor = num_room // 10\n",
    "\n",
    "print(floor)"
   ]
  },
  {
   "cell_type": "markdown",
   "metadata": {},
   "source": [
    "# Problem I"
   ]
  },
  {
   "cell_type": "code",
   "execution_count": null,
   "metadata": {},
   "outputs": [],
   "source": [
    "initial_flower = int(input())\n",
    "day_visit_again = int(input())\n",
    "\n",
    "final_flower = initial_flower * (3 ** day_visit_again)\n",
    "\n",
    "print(final_flower)"
   ]
  },
  {
   "cell_type": "markdown",
   "metadata": {},
   "source": [
    "# Problem J"
   ]
  },
  {
   "cell_type": "code",
   "execution_count": null,
   "metadata": {},
   "outputs": [],
   "source": [
    "inp_min = int(input())\n",
    "\n",
    "clock_hour = inp_min // 60\n",
    "clock_min = inp_min % 60\n",
    "\n",
    "print(clock_hour)\n",
    "print(clock_min)"
   ]
  },
  {
   "cell_type": "markdown",
   "metadata": {},
   "source": [
    "# Problem K"
   ]
  },
  {
   "cell_type": "code",
   "execution_count": 1,
   "metadata": {},
   "outputs": [
    {
     "name": "stdout",
     "output_type": "stream",
     "text": [
      "NORMAL CLASSES\n"
     ]
    }
   ],
   "source": [
    "temp = int(input())\n",
    "\n",
    "cancel_sch = \"CANCEL SCHOOL\"\n",
    "cancle_2 = \"CANCEL TWO CLASSES\"\n",
    "normal = \"NORMAL CLASSES\"\n",
    "\n",
    "if temp > 35:\n",
    "    print(cancel_sch)\n",
    "elif temp > 30:\n",
    "    print(cancle_2)\n",
    "else:\n",
    "    print(normal)\n",
    "\n"
   ]
  },
  {
   "cell_type": "markdown",
   "metadata": {},
   "source": [
    "# Problem L"
   ]
  },
  {
   "cell_type": "code",
   "execution_count": 6,
   "metadata": {},
   "outputs": [
    {
     "name": "stdout",
     "output_type": "stream",
     "text": [
      "30\n"
     ]
    }
   ],
   "source": [
    "gold_a = int(input())\n",
    "gold_b = int(input())\n",
    "gold_c = int(input())\n",
    "\n",
    "sum_gold = (gold_a + gold_b + gold_c) - min(gold_a, gold_b, gold_c)\n",
    "\n",
    "print(sum_gold)"
   ]
  },
  {
   "cell_type": "markdown",
   "metadata": {},
   "source": [
    "# Problem M"
   ]
  },
  {
   "cell_type": "code",
   "execution_count": null,
   "metadata": {},
   "outputs": [],
   "source": [
    "num = int(input())\n",
    "\n",
    "if num % 7 == 0 and num % 11 != 0:\n",
    "    print(\"YES\")\n",
    "else:\n",
    "    print(\"No\")"
   ]
  },
  {
   "cell_type": "markdown",
   "metadata": {},
   "source": [
    "# Problem N"
   ]
  },
  {
   "cell_type": "code",
   "execution_count": null,
   "metadata": {},
   "outputs": [],
   "source": [
    "hour = int(input())\n",
    "\n",
    "if 5 <= hour <= 9:\n",
    "    print(\"OPEN\")\n",
    "else:\n",
    "    print(\"CLOSED\")"
   ]
  },
  {
   "cell_type": "markdown",
   "metadata": {},
   "source": [
    "# Problem O"
   ]
  },
  {
   "cell_type": "code",
   "execution_count": null,
   "metadata": {},
   "outputs": [],
   "source": [
    "left_sock = int(input())\n",
    "right_sock = int(input())\n",
    "\n",
    "pairs = min(left_sock, right_sock)\n",
    "\n",
    "print(pairs)"
   ]
  },
  {
   "cell_type": "markdown",
   "metadata": {},
   "source": [
    "# Problem P"
   ]
  },
  {
   "cell_type": "code",
   "execution_count": null,
   "metadata": {},
   "outputs": [],
   "source": [
    "score = int(input())\n",
    "\n",
    "if score <= 40:\n",
    "    print(\"Emerging\")\n",
    "elif score <= 80:\n",
    "    print(\"Developing\")\n",
    "else:\n",
    "    print(\"Achieved\")"
   ]
  },
  {
   "cell_type": "markdown",
   "metadata": {},
   "source": [
    "# Problem Q"
   ]
  },
  {
   "cell_type": "code",
   "execution_count": null,
   "metadata": {},
   "outputs": [],
   "source": [
    "apple_cake = int(input())\n",
    "orange_cake = int(input())\n",
    "\n",
    "bag_1 = int(input())\n",
    "bag_2 = int(input())\n",
    "\n",
    "cake_max = max(apple_cake, orange_cake)\n",
    "cake_min = min(apple_cake, orange_cake)\n",
    "\n",
    "max_is_containable = cake_max <= max(bag_1, bag_2)\n",
    "min_is_containable = cake_min <= min(bag_1, bag_2)\n",
    "\n",
    "if max_is_containable and min_is_containable:\n",
    "    print(\"YES\")\n",
    "else:\n",
    "    print(\"NO\") "
   ]
  },
  {
   "cell_type": "markdown",
   "metadata": {},
   "source": [
    "# Problem R"
   ]
  },
  {
   "cell_type": "code",
   "execution_count": 10,
   "metadata": {},
   "outputs": [
    {
     "name": "stdout",
     "output_type": "stream",
     "text": [
      "10\n",
      "9\n",
      "8\n",
      "7\n",
      "6\n",
      "5\n",
      "4\n",
      "3\n",
      "2\n",
      "1\n"
     ]
    }
   ],
   "source": [
    "integer = int(input())\n",
    "\n",
    "for i in range(integer, 0, -1):\n",
    "    print(i)"
   ]
  },
  {
   "cell_type": "markdown",
   "metadata": {},
   "source": [
    "# Problem S"
   ]
  },
  {
   "cell_type": "code",
   "execution_count": null,
   "metadata": {},
   "outputs": [],
   "source": [
    "n = int(input())\n",
    "\n",
    "sum = (n) * (n+1) * (2*n +1) // 6\n",
    "\n",
    "print(sum)"
   ]
  },
  {
   "cell_type": "markdown",
   "metadata": {},
   "source": [
    "# Problem T"
   ]
  },
  {
   "cell_type": "code",
   "execution_count": 12,
   "metadata": {},
   "outputs": [
    {
     "name": "stdout",
     "output_type": "stream",
     "text": [
      "10\n"
     ]
    }
   ],
   "source": [
    "num_of_input = int(input())\n",
    "\n",
    "sum = 0\n",
    "for i in range(num_of_input):\n",
    "    a_is_input = int(input())\n",
    "    sum += a_is_input\n",
    "\n",
    "print(sum)"
   ]
  },
  {
   "cell_type": "markdown",
   "metadata": {},
   "source": [
    "# Problem U"
   ]
  },
  {
   "cell_type": "code",
   "execution_count": 13,
   "metadata": {},
   "outputs": [
    {
     "name": "stdout",
     "output_type": "stream",
     "text": [
      "2\n",
      "4\n"
     ]
    }
   ],
   "source": [
    "start = int(input())\n",
    "stop = int(input())\n",
    "\n",
    "if start % 2 != 0:\n",
    "    start += 1\n",
    "\n",
    "for i in range(start, stop+1, 2):\n",
    "    print(i)"
   ]
  },
  {
   "cell_type": "markdown",
   "metadata": {},
   "source": [
    "# Problem V"
   ]
  },
  {
   "cell_type": "code",
   "execution_count": 15,
   "metadata": {},
   "outputs": [
    {
     "name": "stdout",
     "output_type": "stream",
     "text": [
      "2\n"
     ]
    }
   ],
   "source": [
    "num = int(input())\n",
    "\n",
    "zeros = 0\n",
    "for i in range(num):\n",
    "    ai = int(input())\n",
    "    if ai == 0:\n",
    "        zeros += 1\n",
    "\n",
    "print(zeros)\n"
   ]
  },
  {
   "cell_type": "markdown",
   "metadata": {},
   "source": [
    "# Problem W"
   ]
  },
  {
   "cell_type": "code",
   "execution_count": 17,
   "metadata": {},
   "outputs": [
    {
     "name": "stdout",
     "output_type": "stream",
     "text": [
      "3\n"
     ]
    }
   ],
   "source": [
    "num = int(input())\n",
    "\n",
    "league_of_heroes_incomplete = 0\n",
    "league_of_heroes_complete = num * (num + 1) // 2\n",
    "\n",
    "for i in range(num - 1):\n",
    "    hero = int(input())\n",
    "    league_of_heroes_incomplete += hero\n",
    "\n",
    "missing_hero = league_of_heroes_complete - league_of_heroes_incomplete\n",
    "\n",
    "print(missing_hero)\n",
    "\n"
   ]
  }
 ],
 "metadata": {
  "kernelspec": {
   "display_name": "harbour.space_student",
   "language": "python",
   "name": "python3"
  },
  "language_info": {
   "codemirror_mode": {
    "name": "ipython",
    "version": 3
   },
   "file_extension": ".py",
   "mimetype": "text/x-python",
   "name": "python",
   "nbconvert_exporter": "python",
   "pygments_lexer": "ipython3",
   "version": "3.12.4"
  }
 },
 "nbformat": 4,
 "nbformat_minor": 2
}
