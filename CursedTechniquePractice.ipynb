{
 "cells": [
  {
   "cell_type": "code",
   "execution_count": 40,
   "metadata": {},
   "outputs": [
    {
     "name": "stdout",
     "output_type": "stream",
     "text": [
      "17.0\n"
     ]
    }
   ],
   "source": [
    "def Int_a_(a, b):\n",
    "    _a_ = list()\n",
    "    for i in range(a):\n",
    "        _a_.append(0)\n",
    "\n",
    "\n",
    "    _a__ = list()\n",
    "    for i in range(b):\n",
    "        _a__.append(1)\n",
    "\n",
    "    p = _a_ \n",
    "    for i in range(len(_a__)):\n",
    "        p.append(_a__[i])\n",
    "    \n",
    "    return float(len(p))\n",
    "\n",
    "print(Int_a_(15,2))"
   ]
  }
 ],
 "metadata": {
  "kernelspec": {
   "display_name": "harbour.space_student",
   "language": "python",
   "name": "python3"
  },
  "language_info": {
   "codemirror_mode": {
    "name": "ipython",
    "version": 3
   },
   "file_extension": ".py",
   "mimetype": "text/x-python",
   "name": "python",
   "nbconvert_exporter": "python",
   "pygments_lexer": "ipython3",
   "version": "3.12.4"
  }
 },
 "nbformat": 4,
 "nbformat_minor": 2
}
