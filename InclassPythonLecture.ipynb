{
 "cells": [
  {
   "cell_type": "code",
   "execution_count": null,
   "metadata": {},
   "outputs": [],
   "source": [
    "### I love P'Ve & P'Due, Please rate me score between 90-100%. Thank you :D\n",
    "print(\"Hello, World!\")\n",
    "mat = 1\n",
    "print(mat)\n",
    "while mat in range(1,10):\n",
    "    mat += 1\n",
    "    print(str(mat) + \" Cursed™®\")"
   ]
  },
  {
   "cell_type": "code",
   "execution_count": null,
   "metadata": {},
   "outputs": [],
   "source": [
    "# String is LIST!!!!\n",
    "text = \"sawadee\"\n",
    "for char in text:\n",
    "    print(char)"
   ]
  },
  {
   "cell_type": "markdown",
   "metadata": {},
   "source": [
    "Don't know, just want to write something."
   ]
  },
  {
   "cell_type": "code",
   "execution_count": null,
   "metadata": {},
   "outputs": [],
   "source": [
    "# add ∫∂ between components\n",
    "print(\"hello\", \"world\", \"123\", sep=\"∫∂\")"
   ]
  },
  {
   "cell_type": "code",
   "execution_count": null,
   "metadata": {},
   "outputs": [],
   "source": [
    "# seperate each components to each line\n",
    "print(1, 2, 3, sep=\"\\n\")"
   ]
  },
  {
   "cell_type": "markdown",
   "metadata": {},
   "source": [
    "# Data Type\n",
    "1.  Integer         -   int\n",
    "2.  floating point  -   float\n",
    "3.  string          -   string\n",
    "4.  boolean         -   bool\n",
    "5.  None            -   None\n",
    "\n",
    "Old Python Store in 4bytes - 32 bit\n",
    "2^31 numbers and ±(1)"
   ]
  },
  {
   "cell_type": "code",
   "execution_count": null,
   "metadata": {},
   "outputs": [],
   "source": [
    "# Advance Type Check\n",
    "# isintance(x,y)\n",
    "\n",
    "print(\"isinstance(-1, int)\")\n",
    "print(isinstance(-1, int))\n",
    "print(\"----------------------\")\n",
    "print(\"isinstance(True, int)\")\n",
    "print(isinstance(True, int))\n",
    "\n",
    "# True = 1 and False = 0"
   ]
  },
  {
   "cell_type": "markdown",
   "metadata": {},
   "source": [
    "Acording from PEP8\n",
    "75-80 is a Ideal Maximum characters for write code in a single line"
   ]
  },
  {
   "cell_type": "markdown",
   "metadata": {},
   "source": [
    "# Variables\n",
    "is an object to store value."
   ]
  },
  {
   "cell_type": "code",
   "execution_count": null,
   "metadata": {},
   "outputs": [],
   "source": [
    "age = 10\n",
    "print(age)\n",
    "\n",
    "age = 12\n",
    "print(age)\n",
    "\n",
    "age = None\n",
    "print(age)\n",
    "\n",
    "# Python exicute line by line"
   ]
  },
  {
   "cell_type": "markdown",
   "metadata": {},
   "source": [
    "Variable Naming : use snakecase\n"
   ]
  },
  {
   "cell_type": "markdown",
   "metadata": {},
   "source": [
    "Naming should start with alphabet & Never start with _"
   ]
  },
  {
   "cell_type": "markdown",
   "metadata": {},
   "source": [
    "More reserved word it has, the lower the level of language is"
   ]
  },
  {
   "cell_type": "code",
   "execution_count": null,
   "metadata": {},
   "outputs": [],
   "source": [
    "# How can we delete variable from the sem\n",
    "\n",
    "name = \"Eng\"\n",
    "print(name)\n",
    "\n",
    "del name\n",
    "print(name) # This will result error, becuase there is no vrable called name in the memory"
   ]
  },
  {
   "cell_type": "markdown",
   "metadata": {},
   "source": [
    "# Type convertor"
   ]
  },
  {
   "cell_type": "code",
   "execution_count": null,
   "metadata": {},
   "outputs": [],
   "source": [
    "# This in not a code na.\n",
    "int(4)      =   4\n",
    "int(\"4\")    =   4\n",
    "int(\"-4\")   =   4\n",
    "int(\"4.1\")  ≠   4\n",
    "int(2.4)    =   2   (Floor Function)\n",
    "int(True)   =   1\n",
    "int(False)  =   0"
   ]
  },
  {
   "cell_type": "code",
   "execution_count": null,
   "metadata": {},
   "outputs": [],
   "source": [
    "# This is not a code na.\n",
    "float(4)        =   4.0\n",
    "float(\"4.4\")    =   4.4\n",
    "float(True)     =   1.0\n",
    "float(\"True\")   ≠   1.0"
   ]
  },
  {
   "cell_type": "code",
   "execution_count": null,
   "metadata": {},
   "outputs": [],
   "source": [
    "# This is not a code na.\n",
    "bool(1)         =   True\n",
    "bool(0)         =   False\n",
    "bool(1.01)      =   True\n",
    "bool(-1.03)     =   True\n",
    "bool(0.0)       =   True\n",
    "bool(\"sjk\")     =   True\n",
    "bool(\"\")        =   False\n",
    "bool(None)      =   False\n",
    "bool(list())    =   False\n",
    "bool(set())     =   False"
   ]
  },
  {
   "cell_type": "code",
   "execution_count": null,
   "metadata": {},
   "outputs": [],
   "source": [
    "# This is not a code na.\n",
    "str(1)      =   \"1\"\n",
    "str(True)   =   \"True\"\n",
    "str(None)   =   \"None\"\n",
    "str(print)  =   <built-in function print>\n",
    "str(print())=   \"None\""
   ]
  },
  {
   "cell_type": "markdown",
   "metadata": {},
   "source": [
    "# Mathematical Operations"
   ]
  },
  {
   "cell_type": "code",
   "execution_count": null,
   "metadata": {},
   "outputs": [],
   "source": [
    "# This is not a code na.\n",
    "addition            1 + 1   =   2\n",
    "subtraction         6 - 3   =   3\n",
    "multiplication      4 * 5   =   20\n",
    "division            6 / 3   =   2.0\n",
    "division(double)    8 // 3  =   2                   # floor-ed division\n",
    "power               2 ** 3  =   2 * 2 * 2   =   8\n",
    "modulus(or modulo)  8 % 5   =   3                   # find remainder\n",
    "# modulus can use with float but Please use Integer\n",
    "\n",
    "# Things goes worng here D:\n",
    "0 ** 0 gives 1\n",
    "4 / 0  gives ZeroDivisionError\n",
    "9 % 0  gives ZeroDivisionError\n",
    "\n",
    "# Some Wierd Algebra\n",
    "float • int ≈ float # Where • is a operations\n",
    "\n",
    "2.7 // 1 = 2.7\n",
    "\n",
    "This techniques can imply to "
   ]
  },
  {
   "cell_type": "markdown",
   "metadata": {},
   "source": [
    "# Operation Order"
   ]
  },
  {
   "cell_type": "code",
   "execution_count": null,
   "metadata": {},
   "outputs": [],
   "source": [
    "# This is not a code na.\n",
    "1 ()\n",
    "2 power\n",
    "3 Multiplication Division incuding modulus\n",
    "4 Addition and Substraction"
   ]
  },
  {
   "cell_type": "markdown",
   "metadata": {},
   "source": [
    "PEP8 :D"
   ]
  },
  {
   "cell_type": "code",
   "execution_count": null,
   "metadata": {},
   "outputs": [],
   "source": [
    "# This is not a code na.\n",
    "1 * 2 - 4 / 5 + 2 ** 4\n",
    "# so please add () to the operation\n",
    "(1 * 2) - (4 / 5) + (2 ** 4)\n",
    "# OR remove space between higher operations\n",
    "1*2 - 4/5 + 2**4\n",
    "\n",
    "# Easy to read right?"
   ]
  },
  {
   "cell_type": "markdown",
   "metadata": {},
   "source": [
    "CURSED :|"
   ]
  },
  {
   "cell_type": "code",
   "execution_count": null,
   "metadata": {},
   "outputs": [],
   "source": [
    "# This is not a code na.\n",
    "a   =   4\n",
    "a   =   a + 4   # add 4 to the value a\n",
    "a   +=  4       # same as above\n",
    "\n",
    "# This logic can imply to all build-in math function"
   ]
  },
  {
   "cell_type": "markdown",
   "metadata": {},
   "source": [
    "# Logical Operators"
   ]
  },
  {
   "cell_type": "code",
   "execution_count": null,
   "metadata": {},
   "outputs": [],
   "source": [
    "# This is not a code na.\n",
    "# These thing will gives booleen type data.\n",
    "    >\n",
    "    <\n",
    "    >=\n",
    "    <=\n",
    "    ==\n",
    "    !="
   ]
  }
 ],
 "metadata": {
  "kernelspec": {
   "display_name": "harbour.space_student",
   "language": "python",
   "name": "python3"
  },
  "language_info": {
   "codemirror_mode": {
    "name": "ipython",
    "version": 3
   },
   "file_extension": ".py",
   "mimetype": "text/x-python",
   "name": "python",
   "nbconvert_exporter": "python",
   "pygments_lexer": "ipython3",
   "version": "3.12.4"
  }
 },
 "nbformat": 4,
 "nbformat_minor": 2
}
