{
 "cells": [
  {
   "cell_type": "code",
   "execution_count": null,
   "metadata": {},
   "outputs": [],
   "source": [
    "### I love P'Ve & P'Due, Please rate me score between 90-100%. Thank you :D\n",
    "print(\"Hello, World!\")\n",
    "mat = 1\n",
    "print(mat)\n",
    "while mat in range(1,10):\n",
    "    mat += 1\n",
    "    print(str(mat) + \" Cursed™®\")"
   ]
  },
  {
   "cell_type": "code",
   "execution_count": null,
   "metadata": {},
   "outputs": [],
   "source": [
    "# String is LIST!!!!\n",
    "text = \"sawadee\"\n",
    "for char in text:\n",
    "    print(char)"
   ]
  },
  {
   "cell_type": "markdown",
   "metadata": {},
   "source": [
    "Don't know, just want to write something."
   ]
  },
  {
   "cell_type": "code",
   "execution_count": null,
   "metadata": {},
   "outputs": [],
   "source": [
    "# add ∫∂ between components\n",
    "print(\"hello\", \"world\", \"123\", sep=\"∫∂\")"
   ]
  },
  {
   "cell_type": "code",
   "execution_count": null,
   "metadata": {},
   "outputs": [],
   "source": [
    "# seperate each components to each line\n",
    "print(1, 2, 3, sep=\"\\n\")"
   ]
  },
  {
   "cell_type": "markdown",
   "metadata": {},
   "source": [
    "# Data Type\n",
    "1.  Integer         -   int\n",
    "2.  floating point  -   float\n",
    "3.  string          -   string\n",
    "4.  boolean         -   bool\n",
    "5.  None            -   None\n",
    "\n",
    "Old Python Store in 4bytes - 32 bit\n",
    "2^31 numbers and ±(1)"
   ]
  },
  {
   "cell_type": "code",
   "execution_count": null,
   "metadata": {},
   "outputs": [],
   "source": [
    "# Advance Type Check\n",
    "# isintance(x,y)\n",
    "\n",
    "print(\"isinstance(-1, int)\")\n",
    "print(isinstance(-1, int))\n",
    "print(\"----------------------\")\n",
    "print(\"isinstance(True, int)\")\n",
    "print(isinstance(True, int))\n",
    "\n",
    "# True = 1 and False = 0"
   ]
  },
  {
   "cell_type": "markdown",
   "metadata": {},
   "source": [
    "Acording from PEP8\n",
    "75-80 is a Ideal Maximum characters for write code in a single line"
   ]
  },
  {
   "cell_type": "markdown",
   "metadata": {},
   "source": [
    "# Variables\n",
    "is an object to store value."
   ]
  },
  {
   "cell_type": "code",
   "execution_count": null,
   "metadata": {},
   "outputs": [],
   "source": [
    "age = 10\n",
    "print(age)\n",
    "\n",
    "age = 12\n",
    "print(age)\n",
    "\n",
    "age = None\n",
    "print(age)\n",
    "\n",
    "# Python exicute line by line"
   ]
  },
  {
   "cell_type": "markdown",
   "metadata": {},
   "source": [
    "Variable Naming : use snakecase\n"
   ]
  },
  {
   "cell_type": "markdown",
   "metadata": {},
   "source": [
    "Naming should start with alphabet & Never start with _"
   ]
  },
  {
   "cell_type": "markdown",
   "metadata": {},
   "source": [
    "More reserved word it has, the lower the level of language is"
   ]
  },
  {
   "cell_type": "code",
   "execution_count": null,
   "metadata": {},
   "outputs": [],
   "source": [
    "# How can we delete variable from the sem\n",
    "\n",
    "name = \"Eng\"\n",
    "print(name)\n",
    "\n",
    "del name\n",
    "print(name) # This will result error, becuase there is no vrable called name in the memory"
   ]
  },
  {
   "cell_type": "markdown",
   "metadata": {},
   "source": [
    "# Type convertor"
   ]
  },
  {
   "cell_type": "code",
   "execution_count": null,
   "metadata": {},
   "outputs": [],
   "source": [
    "# This in not a code na.\n",
    "int(4)      =   4\n",
    "int(\"4\")    =   4\n",
    "int(\"-4\")   =   4\n",
    "int(\"4.1\")  ≠   4\n",
    "int(2.4)    =   2   (Floor Function)\n",
    "int(True)   =   1\n",
    "int(False)  =   0"
   ]
  },
  {
   "cell_type": "code",
   "execution_count": null,
   "metadata": {},
   "outputs": [],
   "source": [
    "# This is not a code na.\n",
    "float(4)        =   4.0\n",
    "float(\"4.4\")    =   4.4\n",
    "float(True)     =   1.0\n",
    "float(\"True\")   ≠   1.0"
   ]
  },
  {
   "cell_type": "code",
   "execution_count": null,
   "metadata": {},
   "outputs": [],
   "source": [
    "# This is not a code na.\n",
    "bool(1)         =   True\n",
    "bool(0)         =   False\n",
    "bool(1.01)      =   True\n",
    "bool(-1.03)     =   True\n",
    "bool(0.0)       =   True\n",
    "bool(\"sjk\")     =   True\n",
    "bool(\"\")        =   False\n",
    "bool(None)      =   False\n",
    "bool(list())    =   False\n",
    "bool(set())     =   False"
   ]
  },
  {
   "cell_type": "code",
   "execution_count": null,
   "metadata": {},
   "outputs": [],
   "source": [
    "# This is not a code na.\n",
    "str(1)      =   \"1\"\n",
    "str(True)   =   \"True\"\n",
    "str(None)   =   \"None\"\n",
    "str(print)  =   <built-in function print>\n",
    "str(print())=   \"None\""
   ]
  },
  {
   "cell_type": "markdown",
   "metadata": {},
   "source": [
    "# Mathematical Operations"
   ]
  },
  {
   "cell_type": "code",
   "execution_count": null,
   "metadata": {},
   "outputs": [],
   "source": [
    "# This is not a code na.\n",
    "addition            1 + 1   =   2\n",
    "subtraction         6 - 3   =   3\n",
    "multiplication      4 * 5   =   20\n",
    "division            6 / 3   =   2.0\n",
    "division(double)    8 // 3  =   2                   # floor-ed division\n",
    "power               2 ** 3  =   2 * 2 * 2   =   8\n",
    "modulus(or modulo)  8 % 5   =   3                   # find remainder\n",
    "# modulus can use with float but Please use Integer\n",
    "\n",
    "# Things goes worng here D:\n",
    "0 ** 0 gives 1\n",
    "4 / 0  gives ZeroDivisionError\n",
    "9 % 0  gives ZeroDivisionError\n",
    "\n",
    "# Some Wierd Algebra\n",
    "float • int ≈ float # Where • is a operations\n",
    "\n",
    "2.7 // 1 = 2.7\n",
    "\n",
    "This techniques can imply to "
   ]
  },
  {
   "cell_type": "markdown",
   "metadata": {},
   "source": [
    "# Operation Order"
   ]
  },
  {
   "cell_type": "code",
   "execution_count": null,
   "metadata": {},
   "outputs": [],
   "source": [
    "# This is not a code na.\n",
    "1 ()\n",
    "2 power\n",
    "3 Multiplication Division incuding modulus\n",
    "4 Addition and Substraction"
   ]
  },
  {
   "cell_type": "markdown",
   "metadata": {},
   "source": [
    "PEP8 :D"
   ]
  },
  {
   "cell_type": "code",
   "execution_count": null,
   "metadata": {},
   "outputs": [],
   "source": [
    "# This is not a code na.\n",
    "1 * 2 - 4 / 5 + 2 ** 4\n",
    "# so please add () to the operation\n",
    "(1 * 2) - (4 / 5) + (2 ** 4)\n",
    "# OR remove space between higher operations\n",
    "1*2 - 4/5 + 2**4\n",
    "\n",
    "# Easy to read right?"
   ]
  },
  {
   "cell_type": "markdown",
   "metadata": {},
   "source": [
    "CURSED :|"
   ]
  },
  {
   "cell_type": "code",
   "execution_count": null,
   "metadata": {},
   "outputs": [],
   "source": [
    "# This is not a code na.\n",
    "a   =   4\n",
    "a   =   a + 4   # add 4 to the value a\n",
    "a   +=  4       # same as above\n",
    "\n",
    "# This logic can imply to all build-in math function"
   ]
  },
  {
   "cell_type": "markdown",
   "metadata": {},
   "source": [
    "# Logical Operators"
   ]
  },
  {
   "cell_type": "code",
   "execution_count": null,
   "metadata": {},
   "outputs": [],
   "source": [
    "# This is not a code na.\n",
    "# These thing will gives booleen type data.\n",
    "    >\n",
    "    <\n",
    "    >=\n",
    "    <=\n",
    "    ==\n",
    "    !=\n",
    "\n",
    "2 < 3 < 4 == 2 < 3 and 3 < 4\n",
    "# using is logic we can use it with any logical operators"
   ]
  },
  {
   "cell_type": "code",
   "execution_count": null,
   "metadata": {},
   "outputs": [],
   "source": [
    "# This is not a code na.\n",
    "# Connectors : and, or, not\n",
    "\n",
    "# not\n",
    "not True == False,  not False == True\n",
    "not(True)== False,  not(False)== True\n",
    "\n",
    "# and\n",
    "True    and True    ==  True\n",
    "True    and False   ==  False\n",
    "False   and True    ==  False\n",
    "False   and False   ==  False\n",
    "\n",
    "#or\n",
    "True    or  True    ==  True\n",
    "True    or  False   ==  True\n",
    "False   or  True    ==  True\n",
    "False   or  False   ==  False"
   ]
  },
  {
   "cell_type": "markdown",
   "metadata": {},
   "source": [
    "# Adder Program & In Class Practice"
   ]
  },
  {
   "cell_type": "code",
   "execution_count": 1,
   "metadata": {},
   "outputs": [
    {
     "name": "stdout",
     "output_type": "stream",
     "text": [
      "The result is ; 6.0\n"
     ]
    }
   ],
   "source": [
    "### To add two numbers, we need to know the number (inputs).\n",
    "### And we need to fix that inputs are either integer or float.\n",
    " \n",
    "num_1 = float(input(\"Enter First  Number : \"))\n",
    "num_2 = float(input(\"Enter Second Number : \"))\n",
    "\n",
    "### After collect the input, we will add them together and assign to variable.\n",
    "\n",
    "result = num_1 + num_2\n",
    "\n",
    "### Hence, we finished the operation and next is to display to user.\n",
    "\n",
    "print(\"The result is ; \" + str(result))\n",
    "\n"
   ]
  },
  {
   "cell_type": "code",
   "execution_count": 23,
   "metadata": {},
   "outputs": [
    {
     "name": "stdout",
     "output_type": "stream",
     "text": [
      "25.0 degC\n",
      "298.15 K\n",
      "77.0 degF\n",
      "20.0 degR\n"
     ]
    }
   ],
   "source": [
    "### Convert Temp to any unit.\n",
    "\n",
    "### So we input temperature in celcius\n",
    "temp_celius = float(input(\"Temperature in degree celcius:\"))\n",
    "\n",
    "### We will convert degree celcius to other units.\n",
    "temp_kelvin = temp_celius + 273.15          # Kelvin\n",
    "temp_fahrenheit = (temp_celius * 9/5) + 32  # Deg Farenheit\n",
    "temp_reaumur = temp_celius / 1.25           # Feg Reaumur\n",
    "\n",
    "### We will display the result of all units.\n",
    "print(str(temp_celius) + \" degC\")\n",
    "print(str(temp_kelvin) + \" K\")\n",
    "print(str(temp_fahrenheit) + \" degF\")\n",
    "print(str(temp_reaumur) + \" degR\")"
   ]
  },
  {
   "cell_type": "code",
   "execution_count": 24,
   "metadata": {},
   "outputs": [
    {
     "name": "stdout",
     "output_type": "stream",
     "text": [
      "Kelvin(0), Deg Fahrenheit(1), Deg Reaumur(2)\n",
      "Type : 1\n",
      "44.6\n"
     ]
    }
   ],
   "source": [
    "# The hard one\n",
    "# Selective Temp Convertor. Without if : and list and string as list.\n",
    "\n",
    "### So we input temperature in celcius\n",
    "temp_celius = float(input(\"Temperature in degree celcius. : \"))\n",
    "\n",
    "### And select the target unit.\n",
    "print(\"Kelvin(0), Deg Fahrenheit(1), Deg Reaumur(2)\")\n",
    "unit = int(input(\"Type your target unit. : \"))\n",
    "\n",
    "### Construct the selector logic.\n",
    "is_kelvin = int(not bool(unit))\n",
    "is_fahrenheit = int(not bool(unit - 1))\n",
    "is_reaumur = int(not bool(unit - 2))\n",
    "\n",
    "multiplier = (is_fahrenheit * 9/5) + (is_reaumur / 1.25)\n",
    "additioner = (is_fahrenheit * 32) + (is_kelvin * 273.15)\n",
    "temp_result = (temp_celius * multiplier) + additioner\n",
    "\n",
    "### Display the result\n",
    "print(\"Type : \" + str(unit))\n",
    "print(temp_result)"
   ]
  },
  {
   "cell_type": "markdown",
   "metadata": {},
   "source": [
    "# Math Built-in function"
   ]
  },
  {
   "cell_type": "code",
   "execution_count": 15,
   "metadata": {},
   "outputs": [
    {
     "data": {
      "text/plain": [
       "1.0"
      ]
     },
     "execution_count": 15,
     "metadata": {},
     "output_type": "execute_result"
    }
   ],
   "source": [
    "abs(-1.0)"
   ]
  },
  {
   "cell_type": "code",
   "execution_count": 13,
   "metadata": {},
   "outputs": [
    {
     "data": {
      "text/plain": [
       "12"
      ]
     },
     "execution_count": 13,
     "metadata": {},
     "output_type": "execute_result"
    }
   ],
   "source": [
    "max(2, 1, 5, 12)"
   ]
  },
  {
   "cell_type": "code",
   "execution_count": 14,
   "metadata": {},
   "outputs": [
    {
     "data": {
      "text/plain": [
       "1"
      ]
     },
     "execution_count": 14,
     "metadata": {},
     "output_type": "execute_result"
    }
   ],
   "source": [
    "min(2, 1, 5, 12)"
   ]
  },
  {
   "cell_type": "code",
   "execution_count": 17,
   "metadata": {},
   "outputs": [
    {
     "data": {
      "text/plain": [
       "14.72"
      ]
     },
     "execution_count": 17,
     "metadata": {},
     "output_type": "execute_result"
    }
   ],
   "source": [
    "round(14.72417, 2)"
   ]
  },
  {
   "cell_type": "markdown",
   "metadata": {},
   "source": [
    "# Turtle Library"
   ]
  },
  {
   "cell_type": "code",
   "execution_count": null,
   "metadata": {},
   "outputs": [],
   "source": [
    "# Importing library\n",
    "import turtle\n",
    "\n",
    "# Process and Speed\n",
    "turtle.forward()    # Forward for () px\n",
    "turtle.backward()   # Backward for () px\n",
    "turtle.speed()      # Select speed 1 - 10, 0 is instant\n",
    "\n",
    "# Send turtle to origin\n",
    "turtle.home()       # Use penup before ;D\n",
    "\n",
    "# Pen up/down\n",
    "turtle.penup()      # Process don't paint\n",
    "turtle.pendown      # Process do paint\n",
    "\n",
    "# About line\n",
    "turtle.color()      # Change process to () colour, input must be string.\n",
    "turtle.width()      # Width of the line: () px\n",
    "\n",
    "# Circle\n",
    "turtle.circle(1,2)  # Draw circle to + angle direction, with radius = 1 and number and complete an arc of circle for 2 deg\n",
    "\n",
    "# Change head to turtle\n",
    "turtle.shape(\"turtle\")\n",
    "\n",
    "# Freeze\n",
    "turtle.mainloop()   # Freeze Screen\n",
    "\n",
    "# Turn\n",
    "turtle.left()       # Rotate +() deg\n",
    "turtle.right()      # Rotate -() deg\n",
    "\n",
    "# Homework make image using turtle, at least 20 command."
   ]
  },
  {
   "cell_type": "markdown",
   "metadata": {},
   "source": [
    "# Declare Constant"
   ]
  },
  {
   "cell_type": "code",
   "execution_count": null,
   "metadata": {},
   "outputs": [],
   "source": [
    "# Protocol of declearing constant.\n",
    "\n",
    "PI = 3.14           # This means you not suppose to change value of this variable (constant)\n",
    "\n",
    "# This is allowed because python is case sensitive : PI ≠ pi"
   ]
  },
  {
   "cell_type": "markdown",
   "metadata": {},
   "source": [
    "# Conditionals"
   ]
  },
  {
   "cell_type": "code",
   "execution_count": null,
   "metadata": {},
   "outputs": [],
   "source": [
    "# If __\n",
    "\n",
    "if \"condition\":         # Condition need to be booleen\n",
    "    \"do\"\n",
    "\n",
    "# python concern about space (or tab)\n",
    "\n",
    "\"\"\"\n",
    "If  \"condition\" is True,    Then \"do\" is process.\n",
    "If  \"condition\" is False,   Then \"do\" isn't process.\n",
    "\"\"\""
   ]
  },
  {
   "cell_type": "code",
   "execution_count": null,
   "metadata": {},
   "outputs": [],
   "source": [
    "# If __ Else\n",
    "\n",
    "if \"condition\":\n",
    "    \"do1\"\n",
    "else:\n",
    "    \"do2\"\n",
    "\n",
    "\"\"\"\n",
    "If  \"condition\" is True,    Then \"do1\" is process.\n",
    "If  \"condition\" is False,   Then nothing.\n",
    "\"\"\""
   ]
  },
  {
   "cell_type": "code",
   "execution_count": null,
   "metadata": {},
   "outputs": [],
   "source": [
    "# If __ Else IF __\n",
    "\n",
    "if \"condition1\":\n",
    "    \"do1\"\n",
    "elif \"condition2\":\n",
    "    \"do2\"\n",
    "\n",
    "\"\"\"\n",
    "If  \"condition1\" is True,    Then \"do1\" is process.\n",
    "If  \"condition1\" is False,   Then,\n",
    "    If  \"condition2\" is True,       Then \"do2\" is process.\n",
    "    If  \"condition2\" is False,      Then nothing.\n",
    "\"\"\""
   ]
  }
 ],
 "metadata": {
  "kernelspec": {
   "display_name": "harbour.space_student",
   "language": "python",
   "name": "python3"
  },
  "language_info": {
   "codemirror_mode": {
    "name": "ipython",
    "version": 3
   },
   "file_extension": ".py",
   "mimetype": "text/x-python",
   "name": "python",
   "nbconvert_exporter": "python",
   "pygments_lexer": "ipython3",
   "version": "3.12.4"
  }
 },
 "nbformat": 4,
 "nbformat_minor": 2
}
