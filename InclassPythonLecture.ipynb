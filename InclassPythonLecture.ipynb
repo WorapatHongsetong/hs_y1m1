{
 "cells": [
  {
   "cell_type": "code",
   "execution_count": 14,
   "metadata": {},
   "outputs": [
    {
     "name": "stdout",
     "output_type": "stream",
     "text": [
      "Hello, World!\n",
      "1\n",
      "2 Cursed™®\n",
      "3 Cursed™®\n",
      "4 Cursed™®\n",
      "5 Cursed™®\n",
      "6 Cursed™®\n",
      "7 Cursed™®\n",
      "8 Cursed™®\n",
      "9 Cursed™®\n",
      "10 Cursed™®\n"
     ]
    }
   ],
   "source": [
    "### I love P'Ve & P'Due, Please rate me score between 90-100%. Thank you :D\n",
    "print(\"Hello, World!\")\n",
    "mat = 1\n",
    "print(mat)\n",
    "while mat in range(1,10):\n",
    "    mat += 1\n",
    "    print(str(mat) + \" Cursed™®\")"
   ]
  },
  {
   "cell_type": "code",
   "execution_count": 34,
   "metadata": {},
   "outputs": [
    {
     "name": "stdout",
     "output_type": "stream",
     "text": [
      "s\n",
      "a\n",
      "w\n",
      "a\n",
      "d\n",
      "e\n",
      "e\n"
     ]
    }
   ],
   "source": [
    "# String is LIST!!!!\n",
    "text = \"sawadee\"\n",
    "for char in text:\n",
    "    print(char)"
   ]
  },
  {
   "cell_type": "code",
   "execution_count": 25,
   "metadata": {},
   "outputs": [
    {
     "name": "stdout",
     "output_type": "stream",
     "text": [
      "hello∫∂world∫∂123\n"
     ]
    }
   ],
   "source": [
    "# add ∫∂ between components\n",
    "print(\"hello\", \"world\", \"123\", sep=\"∫∂\")"
   ]
  },
  {
   "cell_type": "code",
   "execution_count": 24,
   "metadata": {},
   "outputs": [
    {
     "name": "stdout",
     "output_type": "stream",
     "text": [
      "1\n",
      "2\n",
      "3\n"
     ]
    }
   ],
   "source": [
    "# seperate each components to each line\n",
    "print(1, 2, 3, sep=\"\\n\")"
   ]
  },
  {
   "cell_type": "markdown",
   "metadata": {},
   "source": [
    "Data Type\n",
    "1.  Integer         -   int\n",
    "2.  floating point  -   float\n",
    "3.  string          -   string\n",
    "4.  boolean         -   bool\n",
    "5.  None            -   None\n",
    "\n",
    "Old Python Store in 4bytes - 32 bit\n",
    "2^31 numbers and ±(1)"
   ]
  },
  {
   "cell_type": "code",
   "execution_count": 39,
   "metadata": {},
   "outputs": [
    {
     "name": "stdout",
     "output_type": "stream",
     "text": [
      "isinstance(-1, int)\n",
      "True\n",
      "----------------------\n",
      "isinstance(True, int)\n",
      "True\n"
     ]
    }
   ],
   "source": [
    "# Advance Type Check\n",
    "# isintance(x,y)\n",
    "\n",
    "print(\"isinstance(-1, int)\")\n",
    "print(isinstance(-1, int))\n",
    "print(\"----------------------\")\n",
    "print(\"isinstance(True, int)\")\n",
    "print(isinstance(True, int))\n",
    "\n",
    "# True = 1 and False = 0"
   ]
  },
  {
   "cell_type": "markdown",
   "metadata": {},
   "source": [
    "Acording from PEP8\n",
    "75-80 is a Ideal Maximum characters for write code in a single line"
   ]
  },
  {
   "cell_type": "markdown",
   "metadata": {},
   "source": [
    "-"
   ]
  },
  {
   "cell_type": "markdown",
   "metadata": {},
   "source": [
    "Variable is an object that can store a valule"
   ]
  },
  {
   "cell_type": "code",
   "execution_count": 2,
   "metadata": {},
   "outputs": [
    {
     "name": "stdout",
     "output_type": "stream",
     "text": [
      "10\n",
      "12\n",
      "None\n"
     ]
    }
   ],
   "source": [
    "age = 10\n",
    "print(age)\n",
    "\n",
    "age = 12\n",
    "print(age)\n",
    "\n",
    "age = None\n",
    "print(age)\n",
    "\n",
    "# Python exicute line by line"
   ]
  },
  {
   "cell_type": "markdown",
   "metadata": {},
   "source": [
    "Variable Naming : use snakecase\n"
   ]
  },
  {
   "cell_type": "markdown",
   "metadata": {},
   "source": [
    "Naming should start with alphabet & Never start with _"
   ]
  },
  {
   "cell_type": "markdown",
   "metadata": {},
   "source": [
    "More reserved word it has, the lower the level of language is"
   ]
  },
  {
   "cell_type": "code",
   "execution_count": 3,
   "metadata": {},
   "outputs": [
    {
     "name": "stdout",
     "output_type": "stream",
     "text": [
      "Eng\n"
     ]
    },
    {
     "ename": "NameError",
     "evalue": "name 'name' is not defined",
     "output_type": "error",
     "traceback": [
      "\u001b[0;31m---------------------------------------------------------------------------\u001b[0m",
      "\u001b[0;31mNameError\u001b[0m                                 Traceback (most recent call last)",
      "Cell \u001b[0;32mIn[3], line 7\u001b[0m\n\u001b[1;32m      4\u001b[0m \u001b[38;5;28mprint\u001b[39m(name)\n\u001b[1;32m      6\u001b[0m \u001b[38;5;28;01mdel\u001b[39;00m name\n\u001b[0;32m----> 7\u001b[0m \u001b[38;5;28mprint\u001b[39m(\u001b[43mname\u001b[49m)\n",
      "\u001b[0;31mNameError\u001b[0m: name 'name' is not defined"
     ]
    }
   ],
   "source": [
    "# How can we delete variable from the sem\n",
    "\n",
    "name = \"Eng\"\n",
    "print(name)\n",
    "\n",
    "del name\n",
    "print(name) # This will result error, becuase there is no vrable called name in the memory"
   ]
  },
  {
   "cell_type": "markdown",
   "metadata": {},
   "source": [
    "Type convertor"
   ]
  },
  {
   "cell_type": "code",
   "execution_count": null,
   "metadata": {},
   "outputs": [],
   "source": [
    "# This in not a code na.\n",
    "int(4)      =   4\n",
    "int(\"4\")    =   4\n",
    "int(\"-4\")   =   4\n",
    "int(\"4.1\")  ≠   4\n",
    "int(2.4)    =   2   (Floor Function)\n",
    "int(True)   =   1\n",
    "int(False)  =   0"
   ]
  },
  {
   "cell_type": "code",
   "execution_count": null,
   "metadata": {},
   "outputs": [],
   "source": [
    "# This is not a code na.\n",
    "float(4)        =   4.0\n",
    "float(\"4.4\")    =   4.4\n",
    "float(True)     =   1.0\n",
    "float(\"True\")   ≠   1.0"
   ]
  },
  {
   "cell_type": "code",
   "execution_count": null,
   "metadata": {},
   "outputs": [],
   "source": [
    "# This is not a code na.\n",
    "bool(1)         =   True\n",
    "bool(0)         =   False\n",
    "bool(1.01)      =   True\n",
    "bool(-1.03)     =   True\n",
    "bool(0.0)       =   True\n",
    "bool(\"sjk\")     =   True\n",
    "bool(\"\")        =   False\n",
    "bool(None)      =   False\n",
    "bool(list())    =   False\n",
    "bool(set())     =   False"
   ]
  },
  {
   "cell_type": "code",
   "execution_count": null,
   "metadata": {},
   "outputs": [],
   "source": [
    "# This is not a code na.\n",
    "str(1)      =   \"1\"\n",
    "str(True)   =   \"True\"\n",
    "str(None)   =   \"None\"\n",
    "str(print)  =   <built-in function print>\n",
    "str(print())=   \"None\""
   ]
  }
 ],
 "metadata": {
  "kernelspec": {
   "display_name": "harbour.space_student",
   "language": "python",
   "name": "python3"
  },
  "language_info": {
   "codemirror_mode": {
    "name": "ipython",
    "version": 3
   },
   "file_extension": ".py",
   "mimetype": "text/x-python",
   "name": "python",
   "nbconvert_exporter": "python",
   "pygments_lexer": "ipython3",
   "version": "3.12.4"
  }
 },
 "nbformat": 4,
 "nbformat_minor": 2
}
