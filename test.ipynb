{
 "cells": [
  {
   "cell_type": "code",
   "execution_count": 14,
   "metadata": {},
   "outputs": [
    {
     "name": "stdout",
     "output_type": "stream",
     "text": [
      "Hello, World!\n",
      "1\n",
      "2 Cursed™®\n",
      "3 Cursed™®\n",
      "4 Cursed™®\n",
      "5 Cursed™®\n",
      "6 Cursed™®\n",
      "7 Cursed™®\n",
      "8 Cursed™®\n",
      "9 Cursed™®\n",
      "10 Cursed™®\n"
     ]
    }
   ],
   "source": [
    "### I love P'Ve & P'Due, Please rate me score between 90-100%. Thank you :D\n",
    "print(\"Hello, World!\")\n",
    "mat = 1\n",
    "print(mat)\n",
    "while mat in range(1,10):\n",
    "    mat += 1\n",
    "    print(str(mat) + \" Cursed™®\")"
   ]
  },
  {
   "cell_type": "code",
   "execution_count": 34,
   "metadata": {},
   "outputs": [
    {
     "name": "stdout",
     "output_type": "stream",
     "text": [
      "s\n",
      "a\n",
      "w\n",
      "a\n",
      "d\n",
      "e\n",
      "e\n"
     ]
    }
   ],
   "source": [
    "#String is LIST!!!!\n",
    "text = \"sawadee\"\n",
    "for char in text:\n",
    "    print(char)"
   ]
  },
  {
   "cell_type": "code",
   "execution_count": 25,
   "metadata": {},
   "outputs": [
    {
     "name": "stdout",
     "output_type": "stream",
     "text": [
      "hello∫∂world∫∂123\n"
     ]
    }
   ],
   "source": [
    "#add ∫∂ between components\n",
    "print(\"hello\", \"world\", \"123\", sep=\"∫∂\")"
   ]
  },
  {
   "cell_type": "code",
   "execution_count": 24,
   "metadata": {},
   "outputs": [
    {
     "name": "stdout",
     "output_type": "stream",
     "text": [
      "1\n",
      "2\n",
      "3\n"
     ]
    }
   ],
   "source": [
    "#seperate each components to each line\n",
    "print(1, 2, 3, sep=\"\\n\")"
   ]
  },
  {
   "cell_type": "markdown",
   "metadata": {},
   "source": [
    "Data Type\n",
    "1.  Integer         -   int\n",
    "2.  floating point  -   float\n",
    "3.  string          -   string\n",
    "4.  boolean         -   bool\n",
    "5.  None            -   None\n",
    "\n",
    "Old Python Store in 4bytes - 32 bit\n",
    "2^31 numbers and ±(1)"
   ]
  },
  {
   "cell_type": "code",
   "execution_count": 39,
   "metadata": {},
   "outputs": [
    {
     "name": "stdout",
     "output_type": "stream",
     "text": [
      "isinstance(-1, int)\n",
      "True\n",
      "----------------------\n",
      "isinstance(True, int)\n",
      "True\n"
     ]
    }
   ],
   "source": [
    "#Advance Type Check\n",
    "#isintance(x,y)\n",
    "\n",
    "print(\"isinstance(-1, int)\")\n",
    "print(isinstance(-1, int))\n",
    "print(\"----------------------\")\n",
    "print(\"isinstance(True, int)\")\n",
    "print(isinstance(True, int))\n",
    "\n",
    "#True = 1 and False = 0"
   ]
  },
  {
   "cell_type": "markdown",
   "metadata": {},
   "source": [
    "Acording from PEP8\n",
    "60-75 is a Ideal Maximum characters for write code in a single line"
   ]
  }
 ],
 "metadata": {
  "kernelspec": {
   "display_name": "harbour.space_student",
   "language": "python",
   "name": "python3"
  },
  "language_info": {
   "codemirror_mode": {
    "name": "ipython",
    "version": 3
   },
   "file_extension": ".py",
   "mimetype": "text/x-python",
   "name": "python",
   "nbconvert_exporter": "python",
   "pygments_lexer": "ipython3",
   "version": "3.12.4"
  }
 },
 "nbformat": 4,
 "nbformat_minor": 2
}
